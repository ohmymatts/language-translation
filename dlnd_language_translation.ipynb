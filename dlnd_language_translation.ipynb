{
 "cells": [
  {
   "cell_type": "markdown",
   "metadata": {
    "collapsed": true
   },
   "source": [
    "# Language Translation\n",
    "In this project, you’re going to take a peek into the realm of neural network machine translation.  You’ll be training a sequence to sequence model on a dataset of English and French sentences that can translate new sentences from English to French.\n",
    "## Get the Data\n",
    "Since translating the whole language of English to French will take lots of time to train, we have provided you with a small portion of the English corpus."
   ]
  },
  {
   "cell_type": "code",
   "execution_count": 1,
   "metadata": {
    "collapsed": true
   },
   "outputs": [],
   "source": [
    "\"\"\"\n",
    "DON'T MODIFY ANYTHING IN THIS CELL\n",
    "\"\"\"\n",
    "import helper\n",
    "import problem_unittests as tests\n",
    "\n",
    "source_path = 'data/small_vocab_en'\n",
    "target_path = 'data/small_vocab_fr'\n",
    "source_text = helper.load_data(source_path)\n",
    "target_text = helper.load_data(target_path)"
   ]
  },
  {
   "cell_type": "markdown",
   "metadata": {},
   "source": [
    "## Explore the Data\n",
    "Play around with view_sentence_range to view different parts of the data."
   ]
  },
  {
   "cell_type": "code",
   "execution_count": 2,
   "metadata": {},
   "outputs": [
    {
     "name": "stdout",
     "output_type": "stream",
     "text": [
      "Dataset Stats\n",
      "Roughly the number of unique words: 227\n",
      "Number of sentences: 137861\n",
      "Average number of words in a sentence: 13.225277634719028\n",
      "\n",
      "English sentences 0 to 10:\n",
      "new jersey is sometimes quiet during autumn , and it is snowy in april .\n",
      "the united states is usually chilly during july , and it is usually freezing in november .\n",
      "california is usually quiet during march , and it is usually hot in june .\n",
      "the united states is sometimes mild during june , and it is cold in september .\n",
      "your least liked fruit is the grape , but my least liked is the apple .\n",
      "his favorite fruit is the orange , but my favorite is the grape .\n",
      "paris is relaxing during december , but it is usually chilly in july .\n",
      "new jersey is busy during spring , and it is never hot in march .\n",
      "our least liked fruit is the lemon , but my least liked is the grape .\n",
      "the united states is sometimes busy during january , and it is sometimes warm in november .\n",
      "\n",
      "French sentences 0 to 10:\n",
      "new jersey est parfois calme pendant l' automne , et il est neigeux en avril .\n",
      "les états-unis est généralement froid en juillet , et il gèle habituellement en novembre .\n",
      "california est généralement calme en mars , et il est généralement chaud en juin .\n",
      "les états-unis est parfois légère en juin , et il fait froid en septembre .\n",
      "votre moins aimé fruit est le raisin , mais mon moins aimé est la pomme .\n",
      "son fruit préféré est l'orange , mais mon préféré est le raisin .\n",
      "paris est relaxant en décembre , mais il est généralement froid en juillet .\n",
      "new jersey est occupé au printemps , et il est jamais chaude en mars .\n",
      "notre fruit est moins aimé le citron , mais mon moins aimé est le raisin .\n",
      "les états-unis est parfois occupé en janvier , et il est parfois chaud en novembre .\n"
     ]
    }
   ],
   "source": [
    "view_sentence_range = (0, 10)\n",
    "\n",
    "\"\"\"\n",
    "DON'T MODIFY ANYTHING IN THIS CELL\n",
    "\"\"\"\n",
    "import numpy as np\n",
    "\n",
    "print('Dataset Stats')\n",
    "print('Roughly the number of unique words: {}'.format(len({word: None for word in source_text.split()})))\n",
    "\n",
    "sentences = source_text.split('\\n')\n",
    "word_counts = [len(sentence.split()) for sentence in sentences]\n",
    "print('Number of sentences: {}'.format(len(sentences)))\n",
    "print('Average number of words in a sentence: {}'.format(np.average(word_counts)))\n",
    "\n",
    "print()\n",
    "print('English sentences {} to {}:'.format(*view_sentence_range))\n",
    "print('\\n'.join(source_text.split('\\n')[view_sentence_range[0]:view_sentence_range[1]]))\n",
    "print()\n",
    "print('French sentences {} to {}:'.format(*view_sentence_range))\n",
    "print('\\n'.join(target_text.split('\\n')[view_sentence_range[0]:view_sentence_range[1]]))"
   ]
  },
  {
   "cell_type": "markdown",
   "metadata": {},
   "source": [
    "## Implement Preprocessing Function\n",
    "### Text to Word Ids\n",
    "As you did with other RNNs, you must turn the text into a number so the computer can understand it. In the function `text_to_ids()`, you'll turn `source_text` and `target_text` from words to ids.  However, you need to add the `<EOS>` word id at the end of `target_text`.  This will help the neural network predict when the sentence should end.\n",
    "\n",
    "You can get the `<EOS>` word id by doing:\n",
    "```python\n",
    "target_vocab_to_int['<EOS>']\n",
    "```\n",
    "You can get other word ids using `source_vocab_to_int` and `target_vocab_to_int`."
   ]
  },
  {
   "cell_type": "code",
   "execution_count": 3,
   "metadata": {},
   "outputs": [
    {
     "name": "stdout",
     "output_type": "stream",
     "text": [
      "Tests Passed\n"
     ]
    }
   ],
   "source": [
    "def text_to_ids(source_text, target_text, source_vocab_to_int, target_vocab_to_int):\n",
    "    \"\"\"\n",
    "    Convert source and target text to proper word ids\n",
    "    :param source_text: String that contains all the source text.\n",
    "    :param target_text: String that contains all the target text.\n",
    "    :param source_vocab_to_int: Dictionary to go from the source words to an id\n",
    "    :param target_vocab_to_int: Dictionary to go from the target words to an id\n",
    "    :return: A tuple of lists (source_id_text, target_id_text)\n",
    "    \"\"\"\n",
    "    # TODO: Implement Function\n",
    "    \n",
    "    source_id_text = list()\n",
    "    target_id_text = list()\n",
    "    \n",
    "    \n",
    "    source_lines = source_text.split('\\n')\n",
    "    target_lines = target_text.split('\\n')\n",
    "    \n",
    "    for source_line in source_lines:\n",
    "        encoded_line = list()\n",
    "        source_words = source_line.split()\n",
    "        for source_word in source_words:\n",
    "            encoded_line.append(source_vocab_to_int[source_word])\n",
    "        source_id_text.append(encoded_line)\n",
    "        \n",
    "    for target_line in target_lines:\n",
    "        encoded_line = list()\n",
    "        target_words = target_line.split()\n",
    "        for target_word in target_words:\n",
    "            encoded_line.append(target_vocab_to_int[target_word])\n",
    "            \n",
    "        encoded_line.append(target_vocab_to_int['<EOS>'])\n",
    "        target_id_text.append(encoded_line)\n",
    "\n",
    "    return source_id_text, target_id_text\n",
    "\n",
    "\"\"\"\n",
    "DON'T MODIFY ANYTHING IN THIS CELL THAT IS BELOW THIS LINE\n",
    "\"\"\"\n",
    "tests.test_text_to_ids(text_to_ids)"
   ]
  },
  {
   "cell_type": "markdown",
   "metadata": {},
   "source": [
    "### Preprocess all the data and save it\n",
    "Running the code cell below will preprocess all the data and save it to file."
   ]
  },
  {
   "cell_type": "code",
   "execution_count": 4,
   "metadata": {
    "collapsed": true
   },
   "outputs": [],
   "source": [
    "\"\"\"\n",
    "DON'T MODIFY ANYTHING IN THIS CELL\n",
    "\"\"\"\n",
    "helper.preprocess_and_save_data(source_path, target_path, text_to_ids)"
   ]
  },
  {
   "cell_type": "markdown",
   "metadata": {},
   "source": [
    "# Check Point\n",
    "This is your first checkpoint. If you ever decide to come back to this notebook or have to restart the notebook, you can start from here. The preprocessed data has been saved to disk."
   ]
  },
  {
   "cell_type": "code",
   "execution_count": 5,
   "metadata": {
    "collapsed": true
   },
   "outputs": [],
   "source": [
    "\"\"\"\n",
    "DON'T MODIFY ANYTHING IN THIS CELL\n",
    "\"\"\"\n",
    "import numpy as np\n",
    "import helper\n",
    "\n",
    "(source_int_text, target_int_text), (source_vocab_to_int, target_vocab_to_int), _ = helper.load_preprocess()"
   ]
  },
  {
   "cell_type": "markdown",
   "metadata": {},
   "source": [
    "### Check the Version of TensorFlow and Access to GPU\n",
    "This will check to make sure you have the correct version of TensorFlow and access to a GPU"
   ]
  },
  {
   "cell_type": "code",
   "execution_count": 6,
   "metadata": {},
   "outputs": [
    {
     "name": "stdout",
     "output_type": "stream",
     "text": [
      "TensorFlow Version: 1.1.0\n"
     ]
    },
    {
     "name": "stderr",
     "output_type": "stream",
     "text": [
      "/usr/local/lib/python3.5/site-packages/ipykernel_launcher.py:15: UserWarning: No GPU found. Please use a GPU to train your neural network.\n",
      "  from ipykernel import kernelapp as app\n"
     ]
    }
   ],
   "source": [
    "\"\"\"\n",
    "DON'T MODIFY ANYTHING IN THIS CELL\n",
    "\"\"\"\n",
    "from distutils.version import LooseVersion\n",
    "import warnings\n",
    "import tensorflow as tf\n",
    "from tensorflow.python.layers.core import Dense\n",
    "\n",
    "# Check TensorFlow Version\n",
    "assert LooseVersion(tf.__version__) >= LooseVersion('1.1'), 'Please use TensorFlow version 1.1 or newer'\n",
    "print('TensorFlow Version: {}'.format(tf.__version__))\n",
    "\n",
    "# Check for a GPU\n",
    "if not tf.test.gpu_device_name():\n",
    "    warnings.warn('No GPU found. Please use a GPU to train your neural network.')\n",
    "else:\n",
    "    print('Default GPU Device: {}'.format(tf.test.gpu_device_name()))"
   ]
  },
  {
   "cell_type": "markdown",
   "metadata": {},
   "source": [
    "## Build the Neural Network\n",
    "You'll build the components necessary to build a Sequence-to-Sequence model by implementing the following functions below:\n",
    "- `model_inputs`\n",
    "- `process_decoder_input`\n",
    "- `encoding_layer`\n",
    "- `decoding_layer_train`\n",
    "- `decoding_layer_infer`\n",
    "- `decoding_layer`\n",
    "- `seq2seq_model`\n",
    "\n",
    "### Input\n",
    "Implement the `model_inputs()` function to create TF Placeholders for the Neural Network. It should create the following placeholders:\n",
    "\n",
    "- Input text placeholder named \"input\" using the TF Placeholder name parameter with rank 2.\n",
    "- Targets placeholder with rank 2.\n",
    "- Learning rate placeholder with rank 0.\n",
    "- Keep probability placeholder named \"keep_prob\" using the TF Placeholder name parameter with rank 0.\n",
    "- Target sequence length placeholder named \"target_sequence_length\" with rank 1\n",
    "- Max target sequence length tensor named \"max_target_len\" getting its value from applying tf.reduce_max on the target_sequence_length placeholder. Rank 0.\n",
    "- Source sequence length placeholder named \"source_sequence_length\" with rank 1\n",
    "\n",
    "Return the placeholders in the following the tuple (input, targets, learning rate, keep probability, target sequence length, max target sequence length, source sequence length)"
   ]
  },
  {
   "cell_type": "code",
   "execution_count": 7,
   "metadata": {},
   "outputs": [
    {
     "name": "stdout",
     "output_type": "stream",
     "text": [
      "Tests Passed\n"
     ]
    }
   ],
   "source": [
    "def model_inputs():\n",
    "    \"\"\"\n",
    "    Create TF Placeholders for input, targets, learning rate, and lengths of source and target sequences.\n",
    "    :return: Tuple (input, targets, learning rate, keep probability, target sequence length,\n",
    "    max target sequence length, source sequence length)\n",
    "    \"\"\"\n",
    "    # TODO: Implement Function\n",
    "\n",
    "    input_ = tf.placeholder(tf.int32, [None, None], name=\"input\")\n",
    "    target_ = tf.placeholder(tf.int32, [None, None], name=\"target\")\n",
    "    learn_rate_ = tf.placeholder(tf.float32, name=\"learn_rate\")\n",
    "    keep_prob_ = tf.placeholder(tf.float32, name=\"keep_prob\")\n",
    "    targ_seq_len_ = tf.placeholder(tf.int32, [None], name=\"target_sequence_length\")\n",
    "    max_targ_seq_len_ = tf.reduce_max(targ_seq_len_, name=\"max_target_len\")\n",
    "    source_seq_len_ = tf.placeholder(tf.int32, [None], name=\"source_sequence_length\")\n",
    "\n",
    "    \n",
    "    return input_, target_, learn_rate_, keep_prob_, targ_seq_len_, max_targ_seq_len_, source_seq_len_\n",
    "\n",
    "\"\"\"\n",
    "DON'T MODIFY ANYTHING IN THIS CELL THAT IS BELOW THIS LINE\n",
    "\"\"\"\n",
    "tests.test_model_inputs(model_inputs)"
   ]
  },
  {
   "cell_type": "markdown",
   "metadata": {},
   "source": [
    "### Process Decoder Input\n",
    "Implement `process_decoder_input` by removing the last word id from each batch in `target_data` and concat the GO ID to the begining of each batch."
   ]
  },
  {
   "cell_type": "code",
   "execution_count": 8,
   "metadata": {},
   "outputs": [
    {
     "name": "stdout",
     "output_type": "stream",
     "text": [
      "Tests Passed\n"
     ]
    }
   ],
   "source": [
    "def process_decoder_input(target_data, target_vocab_to_int, batch_size):\n",
    "    \"\"\"\n",
    "    Preprocess target data for encoding\n",
    "    :param target_data: Target Placehoder\n",
    "    :param target_vocab_to_int: Dictionary to go from the target words to an id\n",
    "    :param batch_size: Batch Size\n",
    "    :return: Preprocessed target data\n",
    "    \"\"\"\n",
    "    # TODO: Implement Function\n",
    "\n",
    "    go_id = target_vocab_to_int['<GO>']\n",
    "    ending = tf.strided_slice(target_data, [0, 0], [batch_size, -1], [1, 1])\n",
    "    processed_target_data = tf.concat([tf.fill([batch_size, 1], go_id), ending], 1)\n",
    "\n",
    "    return processed_target_data\n",
    "\n",
    "\"\"\"\n",
    "DON'T MODIFY ANYTHING IN THIS CELL THAT IS BELOW THIS LINE\n",
    "\"\"\"\n",
    "tests.test_process_encoding_input(process_decoder_input)"
   ]
  },
  {
   "cell_type": "markdown",
   "metadata": {},
   "source": [
    "### Encoding\n",
    "Implement `encoding_layer()` to create a Encoder RNN layer:\n",
    " * Embed the encoder input using [`tf.contrib.layers.embed_sequence`](https://www.tensorflow.org/api_docs/python/tf/contrib/layers/embed_sequence)\n",
    " * Construct a [stacked](https://github.com/tensorflow/tensorflow/blob/6947f65a374ebf29e74bb71e36fd82760056d82c/tensorflow/docs_src/tutorials/recurrent.md#stacking-multiple-lstms) [`tf.contrib.rnn.LSTMCell`](https://www.tensorflow.org/api_docs/python/tf/contrib/rnn/LSTMCell) wrapped in a [`tf.contrib.rnn.DropoutWrapper`](https://www.tensorflow.org/api_docs/python/tf/contrib/rnn/DropoutWrapper)\n",
    " * Pass cell and embedded input to [`tf.nn.dynamic_rnn()`](https://www.tensorflow.org/api_docs/python/tf/nn/dynamic_rnn)"
   ]
  },
  {
   "cell_type": "code",
   "execution_count": 9,
   "metadata": {
    "scrolled": false
   },
   "outputs": [
    {
     "name": "stdout",
     "output_type": "stream",
     "text": [
      "Tests Passed\n"
     ]
    }
   ],
   "source": [
    "from imp import reload\n",
    "reload(tests)\n",
    "\n",
    "def encoding_layer(rnn_inputs, rnn_size, num_layers, keep_prob, \n",
    "                   source_sequence_length, source_vocab_size, \n",
    "                   encoding_embedding_size):\n",
    "    \"\"\"\n",
    "    Create encoding layer\n",
    "    :param rnn_inputs: Inputs for the RNN\n",
    "    :param rnn_size: RNN Size\n",
    "    :param num_layers: Number of layers\n",
    "    :param keep_prob: Dropout keep probability\n",
    "    :param source_sequence_length: a list of the lengths of each sequence in the batch\n",
    "    :param source_vocab_size: vocabulary size of source data\n",
    "    :param encoding_embedding_size: embedding size of source data\n",
    "    :return: tuple (RNN output, RNN state)\n",
    "    \"\"\"\n",
    "    # TODO: Implement Function\n",
    "\n",
    "    enc_embed_input = tf.contrib.layers.embed_sequence(rnn_inputs, source_vocab_size, encoding_embedding_size)\n",
    "\n",
    "    # Encoder\n",
    "    base_cell = tf.contrib.rnn.MultiRNNCell([tf.contrib.rnn.LSTMCell(rnn_size) for _ in range(num_layers)])\n",
    "    enc_cell = tf.contrib.rnn.DropoutWrapper(base_cell, input_keep_prob = keep_prob, output_keep_prob = keep_prob)\n",
    "    output, enc_state = tf.nn.dynamic_rnn(enc_cell, enc_embed_input, dtype=tf.float32)\n",
    "\n",
    "    return output, enc_state\n",
    "\n",
    "\n",
    "\"\"\"\n",
    "DON'T MODIFY ANYTHING IN THIS CELL THAT IS BELOW THIS LINE\n",
    "\"\"\"\n",
    "tests.test_encoding_layer(encoding_layer)"
   ]
  },
  {
   "cell_type": "markdown",
   "metadata": {},
   "source": [
    "### Decoding - Training\n",
    "Create a training decoding layer:\n",
    "* Create a [`tf.contrib.seq2seq.TrainingHelper`](https://www.tensorflow.org/api_docs/python/tf/contrib/seq2seq/TrainingHelper) \n",
    "* Create a [`tf.contrib.seq2seq.BasicDecoder`](https://www.tensorflow.org/api_docs/python/tf/contrib/seq2seq/BasicDecoder)\n",
    "* Obtain the decoder outputs from [`tf.contrib.seq2seq.dynamic_decode`](https://www.tensorflow.org/api_docs/python/tf/contrib/seq2seq/dynamic_decode)"
   ]
  },
  {
   "cell_type": "code",
   "execution_count": 10,
   "metadata": {},
   "outputs": [
    {
     "name": "stdout",
     "output_type": "stream",
     "text": [
      "Tests Passed\n"
     ]
    }
   ],
   "source": [
    "\n",
    "def decoding_layer_train(encoder_state, dec_cell, dec_embed_input, target_sequence_length,\n",
    "                         max_summary_length,output_layer, keep_prob):\n",
    "\n",
    "    \"\"\"\n",
    "    Create a decoding layer for training\n",
    "    :param encoder_state: Encoder State\n",
    "    :param dec_cell: Decoder RNN Cell\n",
    "    :param dec_embed_input: Decoder embedded input\n",
    "    :param target_sequence_length: The lengths of each sequence in the target batch\n",
    "    :param max_summary_length: The length of the longest sequence in the batch\n",
    "    :param output_layer: Function to apply the output layer\n",
    "    :param keep_prob: Dropout keep probability\n",
    "    :return: BasicDecoderOutput containing training logits and sample_id\n",
    "    \"\"\"\n",
    "    # TODO: Implement Function\n",
    "\n",
    "    train_helper = tf.contrib.seq2seq.TrainingHelper(dec_embed_input, \n",
    "                                                     target_sequence_length)\n",
    "    \n",
    "    train_cell = tf.contrib.rnn.DropoutWrapper(dec_cell, input_keep_prob = keep_prob, \n",
    "                                               output_keep_prob = keep_prob)\n",
    "\n",
    "    basic_decoder = tf.contrib.seq2seq.BasicDecoder(train_cell, train_helper, encoder_state, output_layer=output_layer)\n",
    "    final_outputs, _ = tf.contrib.seq2seq.dynamic_decode(basic_decoder,\n",
    "                                                                       impute_finished=True,\n",
    "                                                                       maximum_iterations=max_summary_length)\n",
    "    return final_outputs\n",
    "\n",
    "\"\"\"\n",
    "DON'T MODIFY ANYTHING IN THIS CELL THAT IS BELOW THIS LINE\n",
    "\"\"\"\n",
    "tests.test_decoding_layer_train(decoding_layer_train)"
   ]
  },
  {
   "cell_type": "markdown",
   "metadata": {},
   "source": [
    "### Decoding - Inference\n",
    "Create inference decoder:\n",
    "* Create a [`tf.contrib.seq2seq.GreedyEmbeddingHelper`](https://www.tensorflow.org/api_docs/python/tf/contrib/seq2seq/GreedyEmbeddingHelper)\n",
    "* Create a [`tf.contrib.seq2seq.BasicDecoder`](https://www.tensorflow.org/api_docs/python/tf/contrib/seq2seq/BasicDecoder)\n",
    "* Obtain the decoder outputs from [`tf.contrib.seq2seq.dynamic_decode`](https://www.tensorflow.org/api_docs/python/tf/contrib/seq2seq/dynamic_decode)"
   ]
  },
  {
   "cell_type": "code",
   "execution_count": 11,
   "metadata": {
    "scrolled": true
   },
   "outputs": [
    {
     "name": "stdout",
     "output_type": "stream",
     "text": [
      "Tests Passed\n"
     ]
    }
   ],
   "source": [
    "def decoding_layer_infer(encoder_state, dec_cell, dec_embeddings, start_of_sequence_id,\n",
    "                         end_of_sequence_id, max_target_sequence_length,\n",
    "                         vocab_size, output_layer, batch_size, keep_prob):\n",
    "    \"\"\"\n",
    "    Create a decoding layer for inference\n",
    "    :param encoder_state: Encoder state\n",
    "    :param dec_cell: Decoder RNN Cell\n",
    "    :param dec_embeddings: Decoder embeddings\n",
    "    :param start_of_sequence_id: GO ID\n",
    "    :param end_of_sequence_id: EOS Id\n",
    "    :param max_target_sequence_length: Maximum length of target sequences\n",
    "    :param vocab_size: Size of decoder/target vocabulary\n",
    "    :param decoding_scope: TenorFlow Variable Scope for decoding\n",
    "    :param output_layer: Function to apply the output layer\n",
    "    :param batch_size: Batch size\n",
    "    :param keep_prob: Dropout keep probability\n",
    "    :return: BasicDecoderOutput containing inference logits and sample_id\n",
    "    \"\"\"\n",
    "    # TODO: Implement Function\n",
    "\n",
    "    start_tokens = tf.tile(tf.constant([start_of_sequence_id], dtype=tf.int32), [batch_size], name='start_tokens')\n",
    "    \n",
    "    embedding_helper = tf.contrib.seq2seq.GreedyEmbeddingHelper(dec_embeddings, \n",
    "                                                                 start_tokens, \n",
    "                                                                 end_of_sequence_id)\n",
    "    \n",
    "    basic_decoder = tf.contrib.seq2seq.BasicDecoder(dec_cell, embedding_helper, \n",
    "                                                    encoder_state, output_layer=output_layer)\n",
    "\n",
    "    final_outputs, _ = tf.contrib.seq2seq.dynamic_decode(basic_decoder,\n",
    "                                                            impute_finished=True,\n",
    "                                                            maximum_iterations=max_target_sequence_length)\n",
    "    return final_outputs\n",
    "\n",
    "\n",
    "\"\"\"\n",
    "DON'T MODIFY ANYTHING IN THIS CELL THAT IS BELOW THIS LINE\n",
    "\"\"\"\n",
    "tests.test_decoding_layer_infer(decoding_layer_infer)"
   ]
  },
  {
   "cell_type": "markdown",
   "metadata": {},
   "source": [
    "### Build the Decoding Layer\n",
    "Implement `decoding_layer()` to create a Decoder RNN layer.\n",
    "\n",
    "* Embed the target sequences\n",
    "* Construct the decoder LSTM cell (just like you constructed the encoder cell above)\n",
    "* Create an output layer to map the outputs of the decoder to the elements of our vocabulary\n",
    "* Use the your `decoding_layer_train(encoder_state, dec_cell, dec_embed_input, target_sequence_length, max_target_sequence_length, output_layer, keep_prob)` function to get the training logits.\n",
    "* Use your `decoding_layer_infer(encoder_state, dec_cell, dec_embeddings, start_of_sequence_id, end_of_sequence_id, max_target_sequence_length, vocab_size, output_layer, batch_size, keep_prob)` function to get the inference logits.\n",
    "\n",
    "Note: You'll need to use [tf.variable_scope](https://www.tensorflow.org/api_docs/python/tf/variable_scope) to share variables between training and inference."
   ]
  },
  {
   "cell_type": "code",
   "execution_count": 12,
   "metadata": {},
   "outputs": [
    {
     "name": "stdout",
     "output_type": "stream",
     "text": [
      "Tests Passed\n"
     ]
    }
   ],
   "source": [
    "from tensorflow.python.layers.core import Dense\n",
    "\n",
    "def decoding_layer(dec_input, encoder_state,\n",
    "                   target_sequence_length, max_target_sequence_length,\n",
    "                   rnn_size,\n",
    "                   num_layers, target_vocab_to_int, target_vocab_size,\n",
    "                   batch_size, keep_prob, decoding_embedding_size):\n",
    "    \"\"\"\n",
    "    Create decoding layer\n",
    "    :param dec_input: Decoder input\n",
    "    :param encoder_state: Encoder state\n",
    "    :param target_sequence_length: The lengths of each sequence in the target batch\n",
    "    :param max_target_sequence_length: Maximum length of target sequences\n",
    "    :param rnn_size: RNN Size\n",
    "    :param num_layers: Number of layers\n",
    "    :param target_vocab_to_int: Dictionary to go from the target words to an id\n",
    "    :param target_vocab_size: Size of target vocabulary\n",
    "    :param batch_size: The size of the batch\n",
    "    :param keep_prob: Dropout keep probability\n",
    "    :return: Tuple of (Training BasicDecoderOutput, Inference BasicDecoderOutput)\n",
    "    \"\"\"\n",
    "    # TODO: Implement Function\n",
    "\n",
    "    dec_embeddings = tf.Variable(tf.random_uniform([target_vocab_size, decoding_embedding_size]))\n",
    "    dec_embed_input = tf.nn.embedding_lookup(dec_embeddings, dec_input)\n",
    "\n",
    "\n",
    "    output_layer = Dense(target_vocab_size,\n",
    "                     kernel_initializer = tf.truncated_normal_initializer(mean = 0.0, stddev=0.1))\n",
    "\n",
    "    with tf.variable_scope(\"decoder\", reuse=None):\n",
    "        dec_cell = tf.contrib.rnn.MultiRNNCell([tf.contrib.rnn.LSTMCell(rnn_size) for _ in range(num_layers)])\n",
    "        training_output =  decoding_layer_train(encoder_state, dec_cell, dec_embed_input, \n",
    "                                                target_sequence_length, max_target_sequence_length, \n",
    "                                                output_layer, keep_prob)\n",
    "\n",
    "    with tf.variable_scope(\"decoder\", reuse=True):\n",
    "        inference_output = decoding_layer_infer(encoder_state, dec_cell, dec_embeddings, target_vocab_to_int['<GO>'],\n",
    "                         target_vocab_to_int['<EOS>'], max_target_sequence_length,\n",
    "                         target_vocab_size, output_layer, batch_size, keep_prob)\n",
    "\n",
    "    return training_output, inference_output\n",
    "\n",
    "\"\"\"\n",
    "DON'T MODIFY ANYTHING IN THIS CELL THAT IS BELOW THIS LINE\n",
    "\"\"\"\n",
    "tests.test_decoding_layer(decoding_layer)"
   ]
  },
  {
   "cell_type": "markdown",
   "metadata": {},
   "source": [
    "### Build the Neural Network\n",
    "Apply the functions you implemented above to:\n",
    "\n",
    "- Apply embedding to the input data for the encoder.\n",
    "- Encode the input using your `encoding_layer(rnn_inputs, rnn_size, num_layers, keep_prob,  source_sequence_length, source_vocab_size, encoding_embedding_size)`.\n",
    "- Process target data using your `process_decoder_input(target_data, target_vocab_to_int, batch_size)` function.\n",
    "- Apply embedding to the target data for the decoder.\n",
    "- Decode the encoded input using your `decoding_layer(dec_input, enc_state, target_sequence_length, max_target_sentence_length, rnn_size, num_layers, target_vocab_to_int, target_vocab_size, batch_size, keep_prob, dec_embedding_size)` function."
   ]
  },
  {
   "cell_type": "code",
   "execution_count": 13,
   "metadata": {},
   "outputs": [
    {
     "name": "stdout",
     "output_type": "stream",
     "text": [
      "Tests Passed\n"
     ]
    }
   ],
   "source": [
    "def seq2seq_model(input_data, target_data, keep_prob, batch_size,\n",
    "                  source_sequence_length, target_sequence_length,\n",
    "                  max_target_sentence_length,\n",
    "                  source_vocab_size, target_vocab_size,\n",
    "                  enc_embedding_size, dec_embedding_size,\n",
    "                  rnn_size, num_layers, target_vocab_to_int):\n",
    "    \"\"\"\n",
    "    Build the Sequence-to-Sequence part of the neural network\n",
    "    :param input_data: Input placeholder\n",
    "    :param target_data: Target placeholder\n",
    "    :param keep_prob: Dropout keep probability placeholder\n",
    "    :param batch_size: Batch Size\n",
    "    :param source_sequence_length: Sequence Lengths of source sequences in the batch\n",
    "    :param target_sequence_length: Sequence Lengths of target sequences in the batch\n",
    "    :param source_vocab_size: Source vocabulary size\n",
    "    :param target_vocab_size: Target vocabulary size\n",
    "    :param enc_embedding_size: Decoder embedding size\n",
    "    :param dec_embedding_size: Encoder embedding size\n",
    "    :param rnn_size: RNN Size\n",
    "    :param num_layers: Number of layers\n",
    "    :param target_vocab_to_int: Dictionary to go from the target words to an id\n",
    "    :return: Tuple of (Training BasicDecoderOutput, Inference BasicDecoderOutput)\n",
    "    \"\"\"\n",
    "    # TODO: Implement Function\n",
    "\n",
    "        \n",
    "    _, enc_state = encoding_layer(input_data, \n",
    "                                  rnn_size, \n",
    "                                  num_layers, \n",
    "                                  keep_prob,\n",
    "                                  source_sequence_length,\n",
    "                                  source_vocab_size, \n",
    "                                  enc_embedding_size)\n",
    "    \n",
    "    \n",
    "    dec_input = process_decoder_input(target_data, target_vocab_to_int, batch_size)\n",
    "    \n",
    "    training_decoder_output, inference_decoder_output = decoding_layer(dec_input,\n",
    "                                                                       enc_state,\n",
    "                                                                       target_sequence_length,\n",
    "                                                                       max_target_sentence_length,\n",
    "                                                                       rnn_size,\n",
    "                                                                       num_layers,\n",
    "                                                                       target_vocab_to_int,\n",
    "                                                                       target_vocab_size, \n",
    "                                                                       batch_size,\n",
    "                                                                       keep_prob,\n",
    "                                                                       dec_embedding_size) \n",
    "    return training_decoder_output, inference_decoder_output\n",
    "\n",
    "\n",
    "\"\"\"\n",
    "DON'T MODIFY ANYTHING IN THIS CELL THAT IS BELOW THIS LINE\n",
    "\"\"\"\n",
    "tests.test_seq2seq_model(seq2seq_model)"
   ]
  },
  {
   "cell_type": "markdown",
   "metadata": {},
   "source": [
    "## Neural Network Training\n",
    "### Hyperparameters\n",
    "Tune the following parameters:\n",
    "\n",
    "- Set `epochs` to the number of epochs.\n",
    "- Set `batch_size` to the batch size.\n",
    "- Set `rnn_size` to the size of the RNNs.\n",
    "- Set `num_layers` to the number of layers.\n",
    "- Set `encoding_embedding_size` to the size of the embedding for the encoder.\n",
    "- Set `decoding_embedding_size` to the size of the embedding for the decoder.\n",
    "- Set `learning_rate` to the learning rate.\n",
    "- Set `keep_probability` to the Dropout keep probability\n",
    "- Set `display_step` to state how many steps between each debug output statement"
   ]
  },
  {
   "cell_type": "code",
   "execution_count": 14,
   "metadata": {
    "collapsed": true
   },
   "outputs": [],
   "source": [
    "# Number of Epochs\n",
    "epochs = 10\n",
    "# Batch Size\n",
    "batch_size = 512 \n",
    "# RNN Size\n",
    "rnn_size = 256 \n",
    "# Number of Layers\n",
    "num_layers = 2\n",
    "# Embedding Size\n",
    "encoding_embedding_size = 512 \n",
    "decoding_embedding_size = 512 \n",
    "# Learning Rate\n",
    "learning_rate = 0.01\n",
    "# Dropout Keep Probability\n",
    "keep_probability = 0.8\n",
    "display_step = 20"
   ]
  },
  {
   "cell_type": "markdown",
   "metadata": {},
   "source": [
    "### Build the Graph\n",
    "Build the graph using the neural network you implemented."
   ]
  },
  {
   "cell_type": "code",
   "execution_count": 15,
   "metadata": {
    "collapsed": true
   },
   "outputs": [],
   "source": [
    "\"\"\"\n",
    "DON'T MODIFY ANYTHING IN THIS CELL\n",
    "\"\"\"\n",
    "save_path = 'checkpoints/dev'\n",
    "(source_int_text, target_int_text), (source_vocab_to_int, target_vocab_to_int), _ = helper.load_preprocess()\n",
    "max_target_sentence_length = max([len(sentence) for sentence in source_int_text])\n",
    "\n",
    "train_graph = tf.Graph()\n",
    "with train_graph.as_default():\n",
    "    input_data, targets, lr, keep_prob, target_sequence_length, max_target_sequence_length, source_sequence_length = model_inputs()\n",
    "\n",
    "    #sequence_length = tf.placeholder_with_default(max_target_sentence_length, None, name='sequence_length')\n",
    "    input_shape = tf.shape(input_data)\n",
    "\n",
    "    train_logits, inference_logits = seq2seq_model(tf.reverse(input_data, [-1]),\n",
    "                                                   targets,\n",
    "                                                   keep_prob,\n",
    "                                                   batch_size,\n",
    "                                                   source_sequence_length,\n",
    "                                                   target_sequence_length,\n",
    "                                                   max_target_sequence_length,\n",
    "                                                   len(source_vocab_to_int),\n",
    "                                                   len(target_vocab_to_int),\n",
    "                                                   encoding_embedding_size,\n",
    "                                                   decoding_embedding_size,\n",
    "                                                   rnn_size,\n",
    "                                                   num_layers,\n",
    "                                                   target_vocab_to_int)\n",
    "\n",
    "\n",
    "    training_logits = tf.identity(train_logits.rnn_output, name='logits')\n",
    "    inference_logits = tf.identity(inference_logits.sample_id, name='predictions')\n",
    "\n",
    "    masks = tf.sequence_mask(target_sequence_length, max_target_sequence_length, dtype=tf.float32, name='masks')\n",
    "\n",
    "    with tf.name_scope(\"optimization\"):\n",
    "        # Loss function\n",
    "        cost = tf.contrib.seq2seq.sequence_loss(\n",
    "            training_logits,\n",
    "            targets,\n",
    "            masks)\n",
    "\n",
    "        # Optimizer\n",
    "        optimizer = tf.train.AdamOptimizer(lr)\n",
    "\n",
    "        # Gradient Clipping\n",
    "        gradients = optimizer.compute_gradients(cost)\n",
    "        capped_gradients = [(tf.clip_by_value(grad, -1., 1.), var) for grad, var in gradients if grad is not None]\n",
    "        train_op = optimizer.apply_gradients(capped_gradients)\n"
   ]
  },
  {
   "cell_type": "markdown",
   "metadata": {},
   "source": [
    "Batch and pad the source and target sequences"
   ]
  },
  {
   "cell_type": "code",
   "execution_count": 16,
   "metadata": {
    "collapsed": true
   },
   "outputs": [],
   "source": [
    "\"\"\"\n",
    "DON'T MODIFY ANYTHING IN THIS CELL\n",
    "\"\"\"\n",
    "def pad_sentence_batch(sentence_batch, pad_int):\n",
    "    \"\"\"Pad sentences with <PAD> so that each sentence of a batch has the same length\"\"\"\n",
    "    max_sentence = max([len(sentence) for sentence in sentence_batch])\n",
    "    return [sentence + [pad_int] * (max_sentence - len(sentence)) for sentence in sentence_batch]\n",
    "\n",
    "\n",
    "def get_batches(sources, targets, batch_size, source_pad_int, target_pad_int):\n",
    "    \"\"\"Batch targets, sources, and the lengths of their sentences together\"\"\"\n",
    "    for batch_i in range(0, len(sources)//batch_size):\n",
    "        start_i = batch_i * batch_size\n",
    "\n",
    "        # Slice the right amount for the batch\n",
    "        sources_batch = sources[start_i:start_i + batch_size]\n",
    "        targets_batch = targets[start_i:start_i + batch_size]\n",
    "\n",
    "        # Pad\n",
    "        pad_sources_batch = np.array(pad_sentence_batch(sources_batch, source_pad_int))\n",
    "        pad_targets_batch = np.array(pad_sentence_batch(targets_batch, target_pad_int))\n",
    "\n",
    "        # Need the lengths for the _lengths parameters\n",
    "        pad_targets_lengths = []\n",
    "        for target in pad_targets_batch:\n",
    "            pad_targets_lengths.append(len(target))\n",
    "\n",
    "        pad_source_lengths = []\n",
    "        for source in pad_sources_batch:\n",
    "            pad_source_lengths.append(len(source))\n",
    "\n",
    "        yield pad_sources_batch, pad_targets_batch, pad_source_lengths, pad_targets_lengths\n"
   ]
  },
  {
   "cell_type": "markdown",
   "metadata": {},
   "source": [
    "### Train\n",
    "Train the neural network on the preprocessed data. If you have a hard time getting a good loss, check the forms to see if anyone is having the same problem."
   ]
  },
  {
   "cell_type": "code",
   "execution_count": 17,
   "metadata": {
    "scrolled": true
   },
   "outputs": [
    {
     "name": "stdout",
     "output_type": "stream",
     "text": [
      "Epoch   0 Batch   20/269 - Train Accuracy: 0.3799, Validation Accuracy: 0.4296, Loss: 2.7443\n",
      "Epoch   0 Batch   40/269 - Train Accuracy: 0.5092, Validation Accuracy: 0.5334, Loss: 2.1402\n",
      "Epoch   0 Batch   60/269 - Train Accuracy: 0.5654, Validation Accuracy: 0.5737, Loss: 1.5479\n",
      "Epoch   0 Batch   80/269 - Train Accuracy: 0.5955, Validation Accuracy: 0.5988, Loss: 1.1196\n",
      "Epoch   0 Batch  100/269 - Train Accuracy: 0.6179, Validation Accuracy: 0.5962, Loss: 0.8549\n",
      "Epoch   0 Batch  120/269 - Train Accuracy: 0.5936, Validation Accuracy: 0.6229, Loss: 0.7455\n",
      "Epoch   0 Batch  140/269 - Train Accuracy: 0.6695, Validation Accuracy: 0.6683, Loss: 0.6315\n",
      "Epoch   0 Batch  160/269 - Train Accuracy: 0.6831, Validation Accuracy: 0.6910, Loss: 0.5365\n",
      "Epoch   0 Batch  180/269 - Train Accuracy: 0.7129, Validation Accuracy: 0.7138, Loss: 0.4744\n",
      "Epoch   0 Batch  200/269 - Train Accuracy: 0.7392, Validation Accuracy: 0.7353, Loss: 0.4397\n",
      "Epoch   0 Batch  220/269 - Train Accuracy: 0.7671, Validation Accuracy: 0.7686, Loss: 0.3549\n",
      "Epoch   0 Batch  240/269 - Train Accuracy: 0.8145, Validation Accuracy: 0.7819, Loss: 0.2912\n",
      "Epoch   0 Batch  260/269 - Train Accuracy: 0.7901, Validation Accuracy: 0.8069, Loss: 0.3015\n",
      "Epoch   1 Batch   20/269 - Train Accuracy: 0.8336, Validation Accuracy: 0.8335, Loss: 0.2507\n",
      "Epoch   1 Batch   40/269 - Train Accuracy: 0.8516, Validation Accuracy: 0.8475, Loss: 0.2139\n",
      "Epoch   1 Batch   60/269 - Train Accuracy: 0.8736, Validation Accuracy: 0.8701, Loss: 0.1550\n",
      "Epoch   1 Batch   80/269 - Train Accuracy: 0.8779, Validation Accuracy: 0.8817, Loss: 0.1367\n",
      "Epoch   1 Batch  100/269 - Train Accuracy: 0.9154, Validation Accuracy: 0.9068, Loss: 0.1182\n",
      "Epoch   1 Batch  120/269 - Train Accuracy: 0.9028, Validation Accuracy: 0.9016, Loss: 0.1112\n",
      "Epoch   1 Batch  140/269 - Train Accuracy: 0.9085, Validation Accuracy: 0.9071, Loss: 0.1016\n",
      "Epoch   1 Batch  160/269 - Train Accuracy: 0.9133, Validation Accuracy: 0.9145, Loss: 0.0820\n",
      "Epoch   1 Batch  180/269 - Train Accuracy: 0.9398, Validation Accuracy: 0.9222, Loss: 0.0746\n",
      "Epoch   1 Batch  200/269 - Train Accuracy: 0.9313, Validation Accuracy: 0.9181, Loss: 0.0658\n",
      "Epoch   1 Batch  220/269 - Train Accuracy: 0.9243, Validation Accuracy: 0.9317, Loss: 0.0638\n",
      "Epoch   1 Batch  240/269 - Train Accuracy: 0.9383, Validation Accuracy: 0.9284, Loss: 0.0574\n",
      "Epoch   1 Batch  260/269 - Train Accuracy: 0.9323, Validation Accuracy: 0.9268, Loss: 0.0611\n",
      "Epoch   2 Batch   20/269 - Train Accuracy: 0.9294, Validation Accuracy: 0.9254, Loss: 0.0526\n",
      "Epoch   2 Batch   40/269 - Train Accuracy: 0.9357, Validation Accuracy: 0.9328, Loss: 0.0549\n",
      "Epoch   2 Batch   60/269 - Train Accuracy: 0.9446, Validation Accuracy: 0.9335, Loss: 0.0476\n",
      "Epoch   2 Batch   80/269 - Train Accuracy: 0.9255, Validation Accuracy: 0.9287, Loss: 0.0474\n",
      "Epoch   2 Batch  100/269 - Train Accuracy: 0.9444, Validation Accuracy: 0.9395, Loss: 0.0493\n",
      "Epoch   2 Batch  120/269 - Train Accuracy: 0.9412, Validation Accuracy: 0.9334, Loss: 0.0461\n",
      "Epoch   2 Batch  140/269 - Train Accuracy: 0.9321, Validation Accuracy: 0.9473, Loss: 0.0488\n",
      "Epoch   2 Batch  160/269 - Train Accuracy: 0.9500, Validation Accuracy: 0.9494, Loss: 0.0381\n",
      "Epoch   2 Batch  180/269 - Train Accuracy: 0.9573, Validation Accuracy: 0.9470, Loss: 0.0384\n",
      "Epoch   2 Batch  200/269 - Train Accuracy: 0.9580, Validation Accuracy: 0.9389, Loss: 0.0350\n",
      "Epoch   2 Batch  220/269 - Train Accuracy: 0.9482, Validation Accuracy: 0.9463, Loss: 0.0383\n",
      "Epoch   2 Batch  240/269 - Train Accuracy: 0.9548, Validation Accuracy: 0.9548, Loss: 0.0332\n",
      "Epoch   2 Batch  260/269 - Train Accuracy: 0.9510, Validation Accuracy: 0.9450, Loss: 0.0344\n",
      "Epoch   3 Batch   20/269 - Train Accuracy: 0.9542, Validation Accuracy: 0.9475, Loss: 0.0327\n",
      "Epoch   3 Batch   40/269 - Train Accuracy: 0.9509, Validation Accuracy: 0.9379, Loss: 0.0400\n",
      "Epoch   3 Batch   60/269 - Train Accuracy: 0.9598, Validation Accuracy: 0.9537, Loss: 0.0321\n",
      "Epoch   3 Batch   80/269 - Train Accuracy: 0.9541, Validation Accuracy: 0.9532, Loss: 0.0316\n",
      "Epoch   3 Batch  100/269 - Train Accuracy: 0.9567, Validation Accuracy: 0.9389, Loss: 0.0387\n",
      "Epoch   3 Batch  120/269 - Train Accuracy: 0.9563, Validation Accuracy: 0.9565, Loss: 0.0345\n",
      "Epoch   3 Batch  140/269 - Train Accuracy: 0.9539, Validation Accuracy: 0.9577, Loss: 0.0362\n",
      "Epoch   3 Batch  160/269 - Train Accuracy: 0.9555, Validation Accuracy: 0.9601, Loss: 0.0326\n",
      "Epoch   3 Batch  180/269 - Train Accuracy: 0.9712, Validation Accuracy: 0.9642, Loss: 0.0285\n",
      "Epoch   3 Batch  200/269 - Train Accuracy: 0.9566, Validation Accuracy: 0.9621, Loss: 0.0262\n",
      "Epoch   3 Batch  220/269 - Train Accuracy: 0.9567, Validation Accuracy: 0.9567, Loss: 0.0272\n",
      "Epoch   3 Batch  240/269 - Train Accuracy: 0.9647, Validation Accuracy: 0.9611, Loss: 0.0291\n",
      "Epoch   3 Batch  260/269 - Train Accuracy: 0.9598, Validation Accuracy: 0.9576, Loss: 0.0297\n",
      "Epoch   4 Batch   20/269 - Train Accuracy: 0.9637, Validation Accuracy: 0.9600, Loss: 0.0280\n",
      "Epoch   4 Batch   40/269 - Train Accuracy: 0.9511, Validation Accuracy: 0.9610, Loss: 0.0306\n",
      "Epoch   4 Batch   60/269 - Train Accuracy: 0.9640, Validation Accuracy: 0.9625, Loss: 0.0262\n",
      "Epoch   4 Batch   80/269 - Train Accuracy: 0.9617, Validation Accuracy: 0.9598, Loss: 0.0236\n",
      "Epoch   4 Batch  100/269 - Train Accuracy: 0.9590, Validation Accuracy: 0.9614, Loss: 0.0286\n",
      "Epoch   4 Batch  120/269 - Train Accuracy: 0.9632, Validation Accuracy: 0.9661, Loss: 0.0259\n",
      "Epoch   4 Batch  140/269 - Train Accuracy: 0.9628, Validation Accuracy: 0.9636, Loss: 0.0287\n",
      "Epoch   4 Batch  160/269 - Train Accuracy: 0.9639, Validation Accuracy: 0.9593, Loss: 0.0264\n",
      "Epoch   4 Batch  180/269 - Train Accuracy: 0.9713, Validation Accuracy: 0.9651, Loss: 0.0233\n",
      "Epoch   4 Batch  200/269 - Train Accuracy: 0.9729, Validation Accuracy: 0.9603, Loss: 0.0226\n",
      "Epoch   4 Batch  220/269 - Train Accuracy: 0.9641, Validation Accuracy: 0.9610, Loss: 0.0276\n",
      "Epoch   4 Batch  240/269 - Train Accuracy: 0.9694, Validation Accuracy: 0.9604, Loss: 0.0254\n",
      "Epoch   4 Batch  260/269 - Train Accuracy: 0.9672, Validation Accuracy: 0.9601, Loss: 0.0233\n",
      "Epoch   5 Batch   20/269 - Train Accuracy: 0.9702, Validation Accuracy: 0.9614, Loss: 0.0215\n",
      "Epoch   5 Batch   40/269 - Train Accuracy: 0.9661, Validation Accuracy: 0.9639, Loss: 0.0283\n",
      "Epoch   5 Batch   60/269 - Train Accuracy: 0.9693, Validation Accuracy: 0.9695, Loss: 0.0239\n",
      "Epoch   5 Batch   80/269 - Train Accuracy: 0.9657, Validation Accuracy: 0.9624, Loss: 0.0225\n",
      "Epoch   5 Batch  100/269 - Train Accuracy: 0.9648, Validation Accuracy: 0.9629, Loss: 0.0258\n",
      "Epoch   5 Batch  120/269 - Train Accuracy: 0.9581, Validation Accuracy: 0.9634, Loss: 0.0246\n",
      "Epoch   5 Batch  140/269 - Train Accuracy: 0.9586, Validation Accuracy: 0.9654, Loss: 0.0263\n",
      "Epoch   5 Batch  160/269 - Train Accuracy: 0.9724, Validation Accuracy: 0.9666, Loss: 0.0214\n",
      "Epoch   5 Batch  180/269 - Train Accuracy: 0.9736, Validation Accuracy: 0.9688, Loss: 0.0199\n",
      "Epoch   5 Batch  200/269 - Train Accuracy: 0.9749, Validation Accuracy: 0.9698, Loss: 0.0204\n",
      "Epoch   5 Batch  220/269 - Train Accuracy: 0.9662, Validation Accuracy: 0.9584, Loss: 0.0226\n",
      "Epoch   5 Batch  240/269 - Train Accuracy: 0.9761, Validation Accuracy: 0.9713, Loss: 0.0213\n",
      "Epoch   5 Batch  260/269 - Train Accuracy: 0.9749, Validation Accuracy: 0.9669, Loss: 0.0215\n",
      "Epoch   6 Batch   20/269 - Train Accuracy: 0.9724, Validation Accuracy: 0.9627, Loss: 0.0209\n",
      "Epoch   6 Batch   40/269 - Train Accuracy: 0.9701, Validation Accuracy: 0.9650, Loss: 0.0240\n",
      "Epoch   6 Batch   60/269 - Train Accuracy: 0.9701, Validation Accuracy: 0.9603, Loss: 0.0225\n",
      "Epoch   6 Batch   80/269 - Train Accuracy: 0.9661, Validation Accuracy: 0.9703, Loss: 0.0191\n",
      "Epoch   6 Batch  100/269 - Train Accuracy: 0.9704, Validation Accuracy: 0.9711, Loss: 0.0251\n",
      "Epoch   6 Batch  120/269 - Train Accuracy: 0.9698, Validation Accuracy: 0.9614, Loss: 0.0242\n",
      "Epoch   6 Batch  140/269 - Train Accuracy: 0.9644, Validation Accuracy: 0.9604, Loss: 0.0258\n",
      "Epoch   6 Batch  160/269 - Train Accuracy: 0.9690, Validation Accuracy: 0.9736, Loss: 0.0223\n",
      "Epoch   6 Batch  180/269 - Train Accuracy: 0.9737, Validation Accuracy: 0.9671, Loss: 0.0208\n",
      "Epoch   6 Batch  200/269 - Train Accuracy: 0.9793, Validation Accuracy: 0.9732, Loss: 0.0174\n",
      "Epoch   6 Batch  220/269 - Train Accuracy: 0.9676, Validation Accuracy: 0.9658, Loss: 0.0209\n"
     ]
    },
    {
     "name": "stdout",
     "output_type": "stream",
     "text": [
      "Epoch   6 Batch  240/269 - Train Accuracy: 0.9727, Validation Accuracy: 0.9682, Loss: 0.0210\n",
      "Epoch   6 Batch  260/269 - Train Accuracy: 0.9696, Validation Accuracy: 0.9596, Loss: 0.0223\n",
      "Epoch   7 Batch   20/269 - Train Accuracy: 0.9744, Validation Accuracy: 0.9671, Loss: 0.0202\n",
      "Epoch   7 Batch   40/269 - Train Accuracy: 0.9708, Validation Accuracy: 0.9614, Loss: 0.0243\n",
      "Epoch   7 Batch   60/269 - Train Accuracy: 0.9768, Validation Accuracy: 0.9668, Loss: 0.0213\n",
      "Epoch   7 Batch   80/269 - Train Accuracy: 0.9830, Validation Accuracy: 0.9704, Loss: 0.0196\n",
      "Epoch   7 Batch  100/269 - Train Accuracy: 0.9666, Validation Accuracy: 0.9729, Loss: 0.0232\n",
      "Epoch   7 Batch  120/269 - Train Accuracy: 0.9738, Validation Accuracy: 0.9709, Loss: 0.0220\n",
      "Epoch   7 Batch  140/269 - Train Accuracy: 0.9642, Validation Accuracy: 0.9680, Loss: 0.0244\n",
      "Epoch   7 Batch  160/269 - Train Accuracy: 0.9712, Validation Accuracy: 0.9743, Loss: 0.0202\n",
      "Epoch   7 Batch  180/269 - Train Accuracy: 0.9851, Validation Accuracy: 0.9743, Loss: 0.0182\n",
      "Epoch   7 Batch  200/269 - Train Accuracy: 0.9765, Validation Accuracy: 0.9648, Loss: 0.0188\n",
      "Epoch   7 Batch  220/269 - Train Accuracy: 0.9640, Validation Accuracy: 0.9611, Loss: 0.0197\n",
      "Epoch   7 Batch  240/269 - Train Accuracy: 0.9735, Validation Accuracy: 0.9655, Loss: 0.0216\n",
      "Epoch   7 Batch  260/269 - Train Accuracy: 0.9744, Validation Accuracy: 0.9681, Loss: 0.0202\n",
      "Epoch   8 Batch   20/269 - Train Accuracy: 0.9741, Validation Accuracy: 0.9651, Loss: 0.0178\n",
      "Epoch   8 Batch   40/269 - Train Accuracy: 0.9696, Validation Accuracy: 0.9670, Loss: 0.0230\n",
      "Epoch   8 Batch   60/269 - Train Accuracy: 0.9776, Validation Accuracy: 0.9680, Loss: 0.0176\n",
      "Epoch   8 Batch   80/269 - Train Accuracy: 0.9698, Validation Accuracy: 0.9640, Loss: 0.0214\n",
      "Epoch   8 Batch  100/269 - Train Accuracy: 0.9753, Validation Accuracy: 0.9687, Loss: 0.0216\n",
      "Epoch   8 Batch  120/269 - Train Accuracy: 0.9672, Validation Accuracy: 0.9735, Loss: 0.0183\n",
      "Epoch   8 Batch  140/269 - Train Accuracy: 0.9738, Validation Accuracy: 0.9694, Loss: 0.0205\n",
      "Epoch   8 Batch  160/269 - Train Accuracy: 0.9734, Validation Accuracy: 0.9644, Loss: 0.0184\n",
      "Epoch   8 Batch  180/269 - Train Accuracy: 0.9805, Validation Accuracy: 0.9645, Loss: 0.0203\n",
      "Epoch   8 Batch  200/269 - Train Accuracy: 0.9805, Validation Accuracy: 0.9739, Loss: 0.0160\n",
      "Epoch   8 Batch  220/269 - Train Accuracy: 0.9645, Validation Accuracy: 0.9663, Loss: 0.0201\n",
      "Epoch   8 Batch  240/269 - Train Accuracy: 0.9807, Validation Accuracy: 0.9701, Loss: 0.0198\n",
      "Epoch   8 Batch  260/269 - Train Accuracy: 0.9734, Validation Accuracy: 0.9645, Loss: 0.0235\n",
      "Epoch   9 Batch   20/269 - Train Accuracy: 0.9715, Validation Accuracy: 0.9676, Loss: 0.0174\n",
      "Epoch   9 Batch   40/269 - Train Accuracy: 0.9735, Validation Accuracy: 0.9701, Loss: 0.0195\n",
      "Epoch   9 Batch   60/269 - Train Accuracy: 0.9758, Validation Accuracy: 0.9662, Loss: 0.0192\n",
      "Epoch   9 Batch   80/269 - Train Accuracy: 0.9730, Validation Accuracy: 0.9706, Loss: 0.0187\n",
      "Epoch   9 Batch  100/269 - Train Accuracy: 0.9680, Validation Accuracy: 0.9743, Loss: 0.0241\n",
      "Epoch   9 Batch  120/269 - Train Accuracy: 0.9750, Validation Accuracy: 0.9687, Loss: 0.0196\n",
      "Epoch   9 Batch  140/269 - Train Accuracy: 0.9711, Validation Accuracy: 0.9665, Loss: 0.0227\n",
      "Epoch   9 Batch  160/269 - Train Accuracy: 0.9793, Validation Accuracy: 0.9728, Loss: 0.0172\n",
      "Epoch   9 Batch  180/269 - Train Accuracy: 0.9841, Validation Accuracy: 0.9750, Loss: 0.0184\n",
      "Epoch   9 Batch  200/269 - Train Accuracy: 0.9895, Validation Accuracy: 0.9636, Loss: 0.0153\n",
      "Epoch   9 Batch  220/269 - Train Accuracy: 0.9698, Validation Accuracy: 0.9664, Loss: 0.0204\n",
      "Epoch   9 Batch  240/269 - Train Accuracy: 0.9792, Validation Accuracy: 0.9672, Loss: 0.0200\n",
      "Epoch   9 Batch  260/269 - Train Accuracy: 0.9789, Validation Accuracy: 0.9650, Loss: 0.0172\n",
      "Model Trained and Saved\n"
     ]
    }
   ],
   "source": [
    "\"\"\"\n",
    "DON'T MODIFY ANYTHING IN THIS CELL\n",
    "\"\"\"\n",
    "def get_accuracy(target, logits):\n",
    "    \"\"\"\n",
    "    Calculate accuracy\n",
    "    \"\"\"\n",
    "    max_seq = max(target.shape[1], logits.shape[1])\n",
    "    if max_seq - target.shape[1]:\n",
    "        target = np.pad(\n",
    "            target,\n",
    "            [(0,0),(0,max_seq - target.shape[1])],\n",
    "            'constant')\n",
    "    if max_seq - logits.shape[1]:\n",
    "        logits = np.pad(\n",
    "            logits,\n",
    "            [(0,0),(0,max_seq - logits.shape[1])],\n",
    "            'constant')\n",
    "\n",
    "    return np.mean(np.equal(target, logits))\n",
    "\n",
    "# Split data to training and validation sets\n",
    "train_source = source_int_text[batch_size:]\n",
    "train_target = target_int_text[batch_size:]\n",
    "valid_source = source_int_text[:batch_size]\n",
    "valid_target = target_int_text[:batch_size]\n",
    "(valid_sources_batch, valid_targets_batch, valid_sources_lengths, valid_targets_lengths ) = next(get_batches(valid_source,\n",
    "                                                                                                             valid_target,\n",
    "                                                                                                             batch_size,\n",
    "                                                                                                             source_vocab_to_int['<PAD>'],\n",
    "                                                                                                             target_vocab_to_int['<PAD>']))                                                                                                  \n",
    "with tf.Session(graph=train_graph) as sess:\n",
    "    sess.run(tf.global_variables_initializer())\n",
    "\n",
    "    for epoch_i in range(epochs):\n",
    "        for batch_i, (source_batch, target_batch, sources_lengths, targets_lengths) in enumerate(\n",
    "                get_batches(train_source, train_target, batch_size,\n",
    "                            source_vocab_to_int['<PAD>'],\n",
    "                            target_vocab_to_int['<PAD>'])):\n",
    "\n",
    "            _, loss = sess.run(\n",
    "                [train_op, cost],\n",
    "                {input_data: source_batch,\n",
    "                 targets: target_batch,\n",
    "                 lr: learning_rate,\n",
    "                 target_sequence_length: targets_lengths,\n",
    "                 source_sequence_length: sources_lengths,\n",
    "                 keep_prob: keep_probability})\n",
    "\n",
    "\n",
    "            if batch_i % display_step == 0 and batch_i > 0:\n",
    "\n",
    "\n",
    "                batch_train_logits = sess.run(\n",
    "                    inference_logits,\n",
    "                    {input_data: source_batch,\n",
    "                     source_sequence_length: sources_lengths,\n",
    "                     target_sequence_length: targets_lengths,\n",
    "                     keep_prob: 1.0})\n",
    "\n",
    "\n",
    "                batch_valid_logits = sess.run(\n",
    "                    inference_logits,\n",
    "                    {input_data: valid_sources_batch,\n",
    "                     source_sequence_length: valid_sources_lengths,\n",
    "                     target_sequence_length: valid_targets_lengths,\n",
    "                     keep_prob: 1.0})\n",
    "\n",
    "                train_acc = get_accuracy(target_batch, batch_train_logits)\n",
    "\n",
    "                valid_acc = get_accuracy(valid_targets_batch, batch_valid_logits)\n",
    "\n",
    "                print('Epoch {:>3} Batch {:>4}/{} - Train Accuracy: {:>6.4f}, Validation Accuracy: {:>6.4f}, Loss: {:>6.4f}'\n",
    "                      .format(epoch_i, batch_i, len(source_int_text) // batch_size, train_acc, valid_acc, loss))\n",
    "\n",
    "    # Save Model\n",
    "    saver = tf.train.Saver()\n",
    "    saver.save(sess, save_path)\n",
    "    print('Model Trained and Saved')"
   ]
  },
  {
   "cell_type": "markdown",
   "metadata": {},
   "source": [
    "### Save Parameters\n",
    "Save the `batch_size` and `save_path` parameters for inference."
   ]
  },
  {
   "cell_type": "code",
   "execution_count": 18,
   "metadata": {
    "collapsed": true
   },
   "outputs": [],
   "source": [
    "\"\"\"\n",
    "DON'T MODIFY ANYTHING IN THIS CELL\n",
    "\"\"\"\n",
    "# Save parameters for checkpoint\n",
    "helper.save_params(save_path)"
   ]
  },
  {
   "cell_type": "markdown",
   "metadata": {},
   "source": [
    "# Checkpoint"
   ]
  },
  {
   "cell_type": "code",
   "execution_count": 19,
   "metadata": {
    "collapsed": true
   },
   "outputs": [],
   "source": [
    "\"\"\"\n",
    "DON'T MODIFY ANYTHING IN THIS CELL\n",
    "\"\"\"\n",
    "import tensorflow as tf\n",
    "import numpy as np\n",
    "import helper\n",
    "import problem_unittests as tests\n",
    "\n",
    "_, (source_vocab_to_int, target_vocab_to_int), (source_int_to_vocab, target_int_to_vocab) = helper.load_preprocess()\n",
    "load_path = helper.load_params()"
   ]
  },
  {
   "cell_type": "markdown",
   "metadata": {},
   "source": [
    "## Sentence to Sequence\n",
    "To feed a sentence into the model for translation, you first need to preprocess it.  Implement the function `sentence_to_seq()` to preprocess new sentences.\n",
    "\n",
    "- Convert the sentence to lowercase\n",
    "- Convert words into ids using `vocab_to_int`\n",
    " - Convert words not in the vocabulary, to the `<UNK>` word id."
   ]
  },
  {
   "cell_type": "code",
   "execution_count": 20,
   "metadata": {},
   "outputs": [
    {
     "name": "stdout",
     "output_type": "stream",
     "text": [
      "Tests Passed\n"
     ]
    }
   ],
   "source": [
    "def sentence_to_seq(sentence, vocab_to_int):\n",
    "    \"\"\"\n",
    "    Convert a sentence to a sequence of ids\n",
    "    :param sentence: String\n",
    "    :param vocab_to_int: Dictionary to go from the words to an id\n",
    "    :return: List of word ids\n",
    "    \"\"\"\n",
    "    # TODO: Implement Function\n",
    "    unk = vocab_to_int['<UNK>']\n",
    "    sentence = sentence.lower()\n",
    "    return [vocab_to_int.get(w, unk) for w in sentence.split()]\n",
    "\n",
    "\n",
    "\"\"\"\n",
    "DON'T MODIFY ANYTHING IN THIS CELL THAT IS BELOW THIS LINE\n",
    "\"\"\"\n",
    "tests.test_sentence_to_seq(sentence_to_seq)"
   ]
  },
  {
   "cell_type": "markdown",
   "metadata": {},
   "source": [
    "## Translate\n",
    "This will translate `translate_sentence` from English to French."
   ]
  },
  {
   "cell_type": "code",
   "execution_count": 21,
   "metadata": {},
   "outputs": [
    {
     "name": "stdout",
     "output_type": "stream",
     "text": [
      "INFO:tensorflow:Restoring parameters from checkpoints/dev\n",
      "Input\n",
      "  Word Ids:      [127, 104, 202, 27, 95, 20, 12]\n",
      "  English Words: ['he', 'saw', 'a', 'old', 'yellow', 'truck', '.']\n",
      "\n",
      "Prediction\n",
      "  Word Ids:      [68, 335, 206, 21, 196, 27, 72, 273, 1]\n",
      "  French Words: il a vu un vieux camion jaune . <EOS>\n"
     ]
    }
   ],
   "source": [
    "translate_sentence = 'he saw a old yellow truck .'\n",
    "\n",
    "\n",
    "\"\"\"\n",
    "DON'T MODIFY ANYTHING IN THIS CELL\n",
    "\"\"\"\n",
    "translate_sentence = sentence_to_seq(translate_sentence, source_vocab_to_int)\n",
    "\n",
    "loaded_graph = tf.Graph()\n",
    "with tf.Session(graph=loaded_graph) as sess:\n",
    "    # Load saved model\n",
    "    loader = tf.train.import_meta_graph(load_path + '.meta')\n",
    "    loader.restore(sess, load_path)\n",
    "\n",
    "    input_data = loaded_graph.get_tensor_by_name('input:0')\n",
    "    logits = loaded_graph.get_tensor_by_name('predictions:0')\n",
    "    target_sequence_length = loaded_graph.get_tensor_by_name('target_sequence_length:0')\n",
    "    source_sequence_length = loaded_graph.get_tensor_by_name('source_sequence_length:0')\n",
    "    keep_prob = loaded_graph.get_tensor_by_name('keep_prob:0')\n",
    "\n",
    "    translate_logits = sess.run(logits, {input_data: [translate_sentence]*batch_size,\n",
    "                                         target_sequence_length: [len(translate_sentence)*2]*batch_size,\n",
    "                                         source_sequence_length: [len(translate_sentence)]*batch_size,\n",
    "                                         keep_prob: 1.0})[0]\n",
    "\n",
    "print('Input')\n",
    "print('  Word Ids:      {}'.format([i for i in translate_sentence]))\n",
    "print('  English Words: {}'.format([source_int_to_vocab[i] for i in translate_sentence]))\n",
    "\n",
    "print('\\nPrediction')\n",
    "print('  Word Ids:      {}'.format([i for i in translate_logits]))\n",
    "print('  French Words: {}'.format(\" \".join([target_int_to_vocab[i] for i in translate_logits])))\n"
   ]
  },
  {
   "cell_type": "markdown",
   "metadata": {},
   "source": [
    "## Imperfect Translation\n",
    "You might notice that some sentences translate better than others.  Since the dataset you're using only has a vocabulary of 227 English words of the thousands that you use, you're only going to see good results using these words.  For this project, you don't need a perfect translation. However, if you want to create a better translation model, you'll need better data.\n",
    "\n",
    "You can train on the [WMT10 French-English corpus](http://www.statmt.org/wmt10/training-giga-fren.tar).  This dataset has more vocabulary and richer in topics discussed.  However, this will take you days to train, so make sure you've a GPU and the neural network is performing well on dataset we provided.  Just make sure you play with the WMT10 corpus after you've submitted this project.\n",
    "## Submitting This Project\n",
    "When submitting this project, make sure to run all the cells before saving the notebook. Save the notebook file as \"dlnd_language_translation.ipynb\" and save it as a HTML file under \"File\" -> \"Download as\". Include the \"helper.py\" and \"problem_unittests.py\" files in your submission."
   ]
  }
 ],
 "metadata": {
  "anaconda-cloud": {},
  "kernelspec": {
   "display_name": "Python 3",
   "language": "python",
   "name": "python3"
  },
  "language_info": {
   "codemirror_mode": {
    "name": "ipython",
    "version": 3
   },
   "file_extension": ".py",
   "mimetype": "text/x-python",
   "name": "python",
   "nbconvert_exporter": "python",
   "pygments_lexer": "ipython3",
   "version": "3.5.3"
  }
 },
 "nbformat": 4,
 "nbformat_minor": 1
}
